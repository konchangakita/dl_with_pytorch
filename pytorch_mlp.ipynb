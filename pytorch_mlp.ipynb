{
 "cells": [
  {
   "cell_type": "code",
   "execution_count": 1,
   "metadata": {},
   "outputs": [],
   "source": [
    "import torch \n",
    "import torch.nn as nn\n",
    "import torch.nn.functional as F\n",
    "\n",
    "from sklearn.datasets import load_iris\n"
   ]
  },
  {
   "cell_type": "code",
   "execution_count": 10,
   "metadata": {},
   "outputs": [
    {
     "data": {
      "text/plain": [
       "device(type='cuda', index=0)"
      ]
     },
     "execution_count": 10,
     "metadata": {},
     "output_type": "execute_result"
    }
   ],
   "source": [
    "# GPU の設定状況に基づいたデバイスの選択\n",
    "device = torch.device('cuda:0' if torch.cuda.is_available() else 'cpu')\n",
    "device"
   ]
  },
  {
   "cell_type": "code",
   "execution_count": 9,
   "metadata": {},
   "outputs": [],
   "source": [
    "# Iris データセットの読み込み\n",
    "x, t = load_iris(return_X_y=True)\n",
    "\n",
    "x = torch.tensor(x, dtype=torch.float32)\n",
    "t = torch.tensor(t, dtype=torch.int64)"
   ]
  },
  {
   "cell_type": "code",
   "execution_count": 11,
   "metadata": {},
   "outputs": [
    {
     "data": {
      "text/plain": [
       "<torch.utils.data.dataset.TensorDataset at 0x25825953700>"
      ]
     },
     "execution_count": 11,
     "metadata": {},
     "output_type": "execute_result"
    }
   ],
   "source": [
    "#DataSetに格納\n",
    "dataset = torch.utils.data.TensorDataset(x, t)\n",
    "dataset"
   ]
  },
  {
   "cell_type": "code",
   "execution_count": 12,
   "metadata": {},
   "outputs": [
    {
     "data": {
      "text/plain": [
       "(90, 30, 30)"
      ]
     },
     "execution_count": 12,
     "metadata": {},
     "output_type": "execute_result"
    }
   ],
   "source": [
    "# datasetの分割\n",
    "n_train = int(len(dataset) * 0.6)\n",
    "n_val = int(len(dataset) * 0.2)\n",
    "n_test = len(dataset) - n_train - n_val\n",
    "\n",
    "n_train, n_val, n_test"
   ]
  },
  {
   "cell_type": "code",
   "execution_count": 13,
   "metadata": {},
   "outputs": [],
   "source": [
    "# ランダムに分割する\n",
    "torch.manual_seed(0)\n",
    "\n",
    "train, val, test = torch.utils.data.random_split(dataset, [n_train, n_val, n_test])"
   ]
  },
  {
   "cell_type": "code",
   "execution_count": 14,
   "metadata": {},
   "outputs": [
    {
     "data": {
      "text/plain": [
       "(90, 30, 30)"
      ]
     },
     "execution_count": 14,
     "metadata": {},
     "output_type": "execute_result"
    }
   ],
   "source": [
    "len(train), len(val), len(test)"
   ]
  },
  {
   "cell_type": "code",
   "execution_count": 15,
   "metadata": {},
   "outputs": [],
   "source": [
    "# ミニバッチ学習\n",
    "batch_size = 10\n",
    "\n",
    "# Dataloaderに格納、trainだけshuffle\n",
    "train_loader = torch.utils.data.DataLoader(train, batch_size, shuffle=True)\n",
    "val_loader = torch.utils.data.DataLoader(val, batch_size)\n",
    "test_loader = torch.utils.data.DataLoader(test, batch_size)"
   ]
  },
  {
   "cell_type": "code",
   "execution_count": 16,
   "metadata": {},
   "outputs": [],
   "source": [
    "# モデル定義\n",
    "class Net(nn.Module):\n",
    "    def __init__(self):\n",
    "        super(Net, self).__init__()\n",
    "        self.L1 = nn.Linear(4, 4)\n",
    "        self.L2 = nn.Linear(4, 3)\n",
    "\n",
    "    def forward(self, x):\n",
    "        x = self.L1(x)\n",
    "        x = F.relu(x)\n",
    "        x = self.L2(x)\n",
    "        return x"
   ]
  },
  {
   "cell_type": "code",
   "execution_count": 79,
   "metadata": {},
   "outputs": [],
   "source": [
    "# 目的関数の設定\n",
    "criterion = nn.CrossEntropyLoss()\n",
    "\n",
    "# 最適化手法の選択\n",
    "optimizer = torch.optim.SGD(net.parameters(), lr=0.1)"
   ]
  },
  {
   "cell_type": "code",
   "execution_count": 80,
   "metadata": {},
   "outputs": [
    {
     "name": "stdout",
     "output_type": "stream",
     "text": [
      "accuracy:  tensor(0.5000, device='cuda:0') loss:  1.1118199825286865\n",
      "accuracy:  tensor(0.5000, device='cuda:0') loss:  1.0638254880905151\n",
      "accuracy:  tensor(0.3000, device='cuda:0') loss:  1.0752707719802856\n",
      "accuracy:  tensor(0.9000, device='cuda:0') loss:  1.0017006397247314\n",
      "accuracy:  tensor(0.1000, device='cuda:0') loss:  1.0963518619537354\n",
      "accuracy:  tensor(0.6000, device='cuda:0') loss:  0.9922469258308411\n",
      "accuracy:  tensor(0.9000, device='cuda:0') loss:  0.9230359792709351\n",
      "accuracy:  tensor(0.5000, device='cuda:0') loss:  0.8453548550605774\n",
      "accuracy:  tensor(0.5000, device='cuda:0') loss:  0.8222911953926086\n",
      "accuracy:  tensor(0.2000, device='cuda:0') loss:  0.9794113039970398\n",
      "accuracy:  tensor(0.9000, device='cuda:0') loss:  0.8902710676193237\n",
      "accuracy:  tensor(0.7000, device='cuda:0') loss:  0.7849392890930176\n",
      "accuracy:  tensor(0.3000, device='cuda:0') loss:  0.8998504877090454\n",
      "accuracy:  tensor(0.7000, device='cuda:0') loss:  0.8202922940254211\n",
      "accuracy:  tensor(0.5000, device='cuda:0') loss:  1.0621870756149292\n",
      "accuracy:  tensor(0.6000, device='cuda:0') loss:  0.7680274248123169\n",
      "accuracy:  tensor(0.3000, device='cuda:0') loss:  0.9073761105537415\n",
      "accuracy:  tensor(0.5000, device='cuda:0') loss:  0.832388699054718\n",
      "accuracy:  tensor(0.7000, device='cuda:0') loss:  0.9637390375137329\n",
      "accuracy:  tensor(0.8000, device='cuda:0') loss:  0.872908890247345\n",
      "accuracy:  tensor(0.8000, device='cuda:0') loss:  0.7332793474197388\n",
      "accuracy:  tensor(0.6000, device='cuda:0') loss:  0.7215552926063538\n",
      "accuracy:  tensor(0.3000, device='cuda:0') loss:  0.9447782635688782\n",
      "accuracy:  tensor(0.6000, device='cuda:0') loss:  0.7845810055732727\n",
      "accuracy:  tensor(0.8000, device='cuda:0') loss:  0.4348030686378479\n",
      "accuracy:  tensor(0.3000, device='cuda:0') loss:  0.9771105647087097\n",
      "accuracy:  tensor(0.3000, device='cuda:0') loss:  0.8987960815429688\n"
     ]
    }
   ],
   "source": [
    "# 学習モデルループ実装\n",
    "\n",
    "max_epoch = 3\n",
    "\n",
    "# インスタンス化\n",
    "torch.manual_seed(0)\n",
    "net = Net().to(device)\n",
    "\n",
    "# 最適化手法の選択\n",
    "optimizer = torch.optim.SGD(net.parameters(), lr=0.1)\n",
    "\n",
    "# 学習ループ\n",
    "for epoch in range(max_epoch):\n",
    "    for batch in train_loader:\n",
    "        x, t = batch\n",
    "        \n",
    "        x = x.to(device)\n",
    "        t = t.to(device)\n",
    "        \n",
    "        optimizer.zero_grad()\n",
    "        \n",
    "        y = net(x)\n",
    "        \n",
    "        #正解率を出力\n",
    "        #print(y)\n",
    "        y_label = torch.argmax(y, dim=1)\n",
    "        #print(y_label)\n",
    "        #print(t)      \n",
    "\n",
    "        acc = torch.sum(y_label == t) *1.0 #int => float\n",
    "        acc = acc / len(t)\n",
    "        \n",
    "        loss = criterion(y, t)\n",
    "        print(\"accuracy: \", acc, \"loss: \", loss.item()) # item(): tensot.Tensor => float\n",
    "        loss.backward()\n",
    "        optimizer.step()\n",
    "\n"
   ]
  },
  {
   "cell_type": "code",
   "execution_count": 81,
   "metadata": {},
   "outputs": [],
   "source": [
    "def calc_acc(data_loader):\n",
    "    with torch.no_grad(): # 勾配計算しない\n",
    "        accs = []\n",
    "        \n",
    "        for batch in data_loader:\n",
    "            x, t = batch\n",
    "            x = x.to(device)\n",
    "            t = t.to(device)\n",
    "            y = net(x)\n",
    "            \n",
    "            y_label = torch.argmax(y, dim=1)\n",
    "            acc = torch.sum(y_label == t) *1.0 #int => float\n",
    "            acc = acc / len(t)\n",
    "            print(acc)\n",
    "            accs.append(acc) #配列に要素を追加\n",
    "            \n",
    "        avg_acc = torch.tensor(accs).mean()\n",
    "        print('Accuracy: {:.1f}%'.format(avg_acc * 100))\n",
    "            \n"
   ]
  },
  {
   "cell_type": "code",
   "execution_count": 82,
   "metadata": {},
   "outputs": [
    {
     "name": "stdout",
     "output_type": "stream",
     "text": [
      "tensor(0.9000, device='cuda:0')\n",
      "tensor(0.6000, device='cuda:0')\n",
      "tensor(0.7000, device='cuda:0')\n",
      "Accuracy: 73.3%\n"
     ]
    }
   ],
   "source": [
    "calc_acc(val_loader)"
   ]
  },
  {
   "cell_type": "code",
   "execution_count": 83,
   "metadata": {},
   "outputs": [
    {
     "name": "stdout",
     "output_type": "stream",
     "text": [
      "tensor(0.7000, device='cuda:0')\n",
      "tensor(0.6000, device='cuda:0')\n",
      "tensor(0.6000, device='cuda:0')\n",
      "Accuracy: 63.3%\n"
     ]
    }
   ],
   "source": [
    "calc_acc(test_loader)"
   ]
  },
  {
   "cell_type": "code",
   "execution_count": null,
   "metadata": {},
   "outputs": [],
   "source": []
  }
 ],
 "metadata": {
  "kernelspec": {
   "display_name": "Python 3",
   "language": "python",
   "name": "python3"
  },
  "language_info": {
   "codemirror_mode": {
    "name": "ipython",
    "version": 3
   },
   "file_extension": ".py",
   "mimetype": "text/x-python",
   "name": "python",
   "nbconvert_exporter": "python",
   "pygments_lexer": "ipython3",
   "version": "3.8.1"
  }
 },
 "nbformat": 4,
 "nbformat_minor": 4
}
